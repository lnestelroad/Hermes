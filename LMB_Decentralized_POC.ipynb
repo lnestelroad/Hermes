{
 "cells": [
  {
   "cell_type": "code",
   "execution_count": 1,
   "metadata": {},
   "outputs": [
    {
     "output_type": "stream",
     "name": "stderr",
     "text": [
      "00:06:44| [Main] Basic logger configured\n",
      "PyZMQ version: 22.0.2\n"
     ]
    }
   ],
   "source": [
    "#System modules\n",
    "import os\n",
    "import math\n",
    "import time\n",
    "import logging\n",
    "import threading\n",
    "import concurrent.futures\n",
    "\n",
    "# Third party modules\n",
    "import tqdm\n",
    "import zmq\n",
    "import matplotlib.pyplot as plt\n",
    "\n",
    "format = \"%(asctime)s| %(message)s\"\n",
    "logging.basicConfig(format=format, level=logging.INFO, datefmt=\"%H:%M:%S\")\n",
    "logging.info(\"[Main] Basic logger configured\")\n",
    "print(f\"PyZMQ version: {zmq.__version__}\")"
   ]
  },
  {
   "cell_type": "code",
   "execution_count": null,
   "metadata": {},
   "outputs": [],
   "source": []
  }
 ],
 "metadata": {
  "kernelspec": {
   "name": "python38664bitecf859015ddd46ff982f363040cc292d",
   "display_name": "Python 3.8.6 64-bit",
   "language": "python"
  }
 },
 "nbformat": 4,
 "nbformat_minor": 5
}